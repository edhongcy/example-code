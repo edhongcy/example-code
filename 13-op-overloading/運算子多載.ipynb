{
 "cells": [
  {
   "cell_type": "markdown",
   "metadata": {},
   "source": [
    "# 運算子多載\n",
    "* python 如何藉由不同型態運算原來支援內綴運算子\n",
    "* 使用 duck typeing 或顯式形態檢查，來處理各型態運算元\n",
    "* 中綴運算子方法在無法處理某個運算元時該如何指出這點\n",
    "* 豐富比較運算子德特殊行為\n",
    "* 擴增賦值運算子"
   ]
  },
  {
   "cell_type": "code",
   "execution_count": null,
   "metadata": {},
   "outputs": [],
   "source": []
  }
 ],
 "metadata": {
  "kernelspec": {
   "display_name": "Python 3",
   "language": "python",
   "name": "python3"
  },
  "language_info": {
   "codemirror_mode": {
    "name": "ipython",
    "version": 3
   },
   "file_extension": ".py",
   "mimetype": "text/x-python",
   "name": "python",
   "nbconvert_exporter": "python",
   "pygments_lexer": "ipython3",
   "version": "3.7.3"
  }
 },
 "nbformat": 4,
 "nbformat_minor": 2
}
