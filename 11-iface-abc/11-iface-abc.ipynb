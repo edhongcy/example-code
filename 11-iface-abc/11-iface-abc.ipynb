{
 "cells": [
  {
   "cell_type": "markdown",
   "metadata": {},
   "source": [
    "# interface: 從協定到 ABC\n",
    "## 抽象類別代表介面\n",
    "* 代表 duck typeing 的動態協定，到使介面更明確，並驗證實作一致的抽象基礎類別(ABC)\n",
    "* duck typeing 協定他是普通介面思維方式是 ABC 法定程式(formality) 與型態檢查\n",
    "\n",
    "\n",
    "1. 介紹 duck typeing 動態特質\n",
    "2. 專門討論 ABC 從常見用途當實作介面將他們當成超類別\n",
    "3. 何時 ABC 會檢查子類別是否符合他所定義的介面，註冊機制如何壤開發者不需要繼承可以宣稱某類別實作一個介面\n",
    "4. 編寫 ABC 自動識別符合介面不需要繼承或註冊\n"
   ]
  },
  {
   "cell_type": "markdown",
   "metadata": {},
   "source": [
    "## 介面與協定\n",
    "* 每個類別都有介面包含自己實作或是從類別繼承通用屬性包含特殊方法\n",
    "* 受保護與私有屬性不是介面一部分\n",
    "* 公有屬性成為物件一部分，因為資料屬性可以改成實作 getter/setter 邏輯，而不會破壞使用一般obj attr用戶端程式碼"
   ]
  },
  {
   "cell_type": "markdown",
   "metadata": {},
   "source": [
    "```\n",
    "#範例9-2\n",
    "class Vector2d:\n",
    "    typecode = 'd'  # <1>\n",
    "\n",
    "    def __init__(self, x, y):\n",
    "        self.x = float(x)    # <2>\n",
    "        self.y = float(y)\n",
    "\n",
    "    def __iter__(self):\n",
    "        return (i for i in (self.x, self.y))  # <3>\n",
    "```"
   ]
  },
  {
   "cell_type": "markdown",
   "metadata": {},
   "source": [
    "```\n",
    "# 僵\n",
    "class Vector2d:\n",
    "    typecode = 'd'\n",
    "\n",
    "    def __init__(self, x, y):\n",
    "        self.__x = float(x)\n",
    "        self.__y = float(y)\n",
    "\n",
    "    @property\n",
    "    def x(self):\n",
    "        return self.__x\n",
    "\n",
    "    @property\n",
    "    def y(self):\n",
    "        return self.__y\n",
    "```"
   ]
  }
 ],
 "metadata": {
  "kernelspec": {
   "display_name": "Python 3",
   "language": "python",
   "name": "python3"
  },
  "language_info": {
   "codemirror_mode": {
    "name": "ipython",
    "version": 3
   },
   "file_extension": ".py",
   "mimetype": "text/x-python",
   "name": "python",
   "nbconvert_exporter": "python",
   "pygments_lexer": "ipython3",
   "version": "3.7.3"
  }
 },
 "nbformat": 4,
 "nbformat_minor": 2
}
